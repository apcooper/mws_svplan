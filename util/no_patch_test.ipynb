{
 "cells": [
  {
   "cell_type": "markdown",
   "metadata": {},
   "source": [
    "# DESI MWS SV DESIGN\n",
    "\n",
    "* Defines a set of tiles for a MWS SV plan.\n",
    "* Defines MWS SV target classes with a custom YAML file.\n",
    "* Patches `desistarget.cuts` with custom functions implementing MWS SV.\n",
    "* Selects targets from sweeps using `desitarget.cuts.select_targets`."
   ]
  },
  {
   "cell_type": "code",
   "execution_count": 1,
   "metadata": {},
   "outputs": [],
   "source": [
    "RUN_NAME = 'single_dark_tile'"
   ]
  },
  {
   "cell_type": "code",
   "execution_count": 2,
   "metadata": {},
   "outputs": [],
   "source": [
    "# %load scripts/nbpreamble.py\n",
    "if not 'RUN_NAME' in locals():\n",
    "    RUN_NAME = 'unknown'\n",
    "\n",
    "import sys\n",
    "import os\n",
    "\n",
    "add_sys_path = list()\n",
    "add_sys_path.append(os.path.join(os.getcwd(),'py'))\n",
    "add_sys_path.append('/global/homes/a/apcooper/desi/modules/desitarget/mws_sv_testing/lib/python3.6/site-packages/desitarget-0.27.0.dev2786-py3.6.egg')\n",
    "\n",
    "WITH_SPHERICAL_GEOMETRY = True\n",
    "if WITH_SPHERICAL_GEOMETRY:\n",
    "    add_sys_path.append(os.path.join(os.environ['HOME'],\n",
    "                                 'software/modules/spherical_geometry/master/lib/python3.6/site-packages/spherical_geometry-1.2.5-py3.6-linux-x86_64.egg/'))\n",
    "\n",
    "for _ in add_sys_path:\n",
    "    if _ not in sys.path:\n",
    "        sys.path.insert(0,_)\n",
    "        #sys.path.append(_)"
   ]
  },
  {
   "cell_type": "code",
   "execution_count": 3,
   "metadata": {},
   "outputs": [
    {
     "name": "stdout",
     "output_type": "stream",
     "text": [
      "Tue Jan 15 16:19:14 PST 2019\n",
      "astropy         2.0.7               \n",
      "numpy           1.13.3              \n",
      "desitarget      0.27.0.dev2786      \n",
      "desimodel       0.9.9.dev464        \n",
      "fiberassign     0.11.0.dev2265\n",
      "\n",
      "Path to fiberassign_exec:\n",
      "/global/common/software/desi/cori/desiconda/20180709-1.2.6-spec/code/fiberassign/master/bin/fiberassign_exec\n",
      "\n",
      "Working dir: /global/u1/a/apcooper/projects/mws_svplan\n",
      "Files will be written under /global/u1/a/apcooper/projects/mws_svplan/runs/single_dark_tile\n",
      "\n",
      "Files under this directory:\n",
      "\u001b[01;34m/global/u1/a/apcooper/projects/mws_svplan\u001b[00m [15 entries exceeds filelimit, not opening dir]\n",
      "\n",
      "Files under the run directory:\n",
      "Tue Jan 15 16:19:15 PST 2019\n",
      "\u001b[01;34m/global/u1/a/apcooper/projects/mws_svplan/runs/single_dark_tile/run\u001b[00m\n",
      "├── [Dec  8 19:23]  \u001b[01;34mdata\u001b[00m\n",
      "│   ├── [Dec  8 19:22]  mtl.fits\n",
      "│   ├── [Dec  8 19:23]  std.fits\n",
      "│   └── [Dec  8 14:48]  sv_targets.fits\n",
      "└── [Dec  8 19:26]  \u001b[01;34moutput\u001b[00m\n",
      "    └── [Dec  8 19:26]  tile_00000.fits\n",
      "\n",
      "Useful numbers:\n",
      "Tile radius: 1.606 deg\n",
      "Tile area:   8.101 sq.deg.\n"
     ]
    }
   ],
   "source": [
    "import shutil\n",
    "import glob\n",
    "import numpy as np\n",
    "import warnings\n",
    "import matplotlib\n",
    "import matplotlib.pyplot as pl\n",
    "from   matplotlib.patches import Circle, Polygon, RegularPolygon\n",
    "%matplotlib inline\n",
    "\n",
    "from desitarget.cuts import select_targets, qso_selection_options\n",
    "\n",
    "with warnings.catch_warnings():\n",
    "    warnings.filterwarnings(\"ignore\", module='desitarget')\n",
    "    # Tries to set mpl backend\n",
    "    from desitarget.QA import _parse_tcnames\n",
    "\n",
    "from desiutil.log import get_logger\n",
    "\n",
    "from importlib import reload\n",
    "                    \n",
    "from apcsv.astropy_backports import *\n",
    "\n",
    "if WITH_SPHERICAL_GEOMETRY:\n",
    "    import spherical_geometry\n",
    "    from spherical_geometry import polygon as spoly\n",
    "\n",
    "import astropy\n",
    "import astropy.units as u\n",
    "import astropy.coordinates as coord\n",
    "import regions\n",
    "from   astropy.io import fits\n",
    "from   astropy.table import Table, Column\n",
    "\n",
    "import desiutil\n",
    "import desiutil.plots\n",
    "import desimodel\n",
    "import desimodel.focalplane\n",
    "import desitarget\n",
    "\n",
    "with warnings.catch_warnings():\n",
    "    warnings.filterwarnings(\"ignore\",category=UserWarning, module=\"matplotlib\")\n",
    "    # Tries to set mpl backend\n",
    "    import desitarget\n",
    "import desitarget.io as io\n",
    "import desitarget.mtl\n",
    "\n",
    "import desitarget.targetmask\n",
    "from   desitarget.targetmask import desi_mask, bgs_mask, mws_mask, obsmask, obsconditions\n",
    "\n",
    "import fitsio\n",
    "\n",
    "def warning_summary(W):\n",
    "    if len(W) == 0:\n",
    "        print('No warnings')\n",
    "        return\n",
    "    \n",
    "    import collections\n",
    "    d = collections.defaultdict(lambda: 0)\n",
    "    for _ in W: d[_.category.__name__] += 1\n",
    "        \n",
    "    print('{:15s} {:s}'.format('WARNING','COUNT'))\n",
    "    for k,v in d.items():\n",
    "        print('{:15s} {:d}'.format(k,v))\n",
    "        \n",
    "!date\n",
    "for m in [astropy,np]:\n",
    "    print('{:15s} {:20s}'.format(m.__name__,m.version.version))\n",
    "for m in [desitarget,desimodel]:\n",
    "    print('{:15s} {:20s}'.format(m.__name__,m._version.__version__))\n",
    "!echo 'fiberassign    ' $(fiberassign_exec --version)   \n",
    "\n",
    "print()\n",
    "print('Path to fiberassign_exec:')\n",
    "!which fiberassign_exec\n",
    "\n",
    "print()\n",
    "print('Working dir:', os.getcwd())\n",
    "\n",
    "# Write all the files under this path\n",
    "ROOT_DIR  = os.getcwd()\n",
    "WORK_ROOT = os.path.join(ROOT_DIR,'runs',RUN_NAME)\n",
    "print('Files will be written under {}'.format(WORK_ROOT))\n",
    "\n",
    "if not os.path.exists(WORK_ROOT):\n",
    "    os.makedirs(WORK_ROOT)\n",
    "    \n",
    "print()\n",
    "print('Files under this directory:')\n",
    "!tree --noreport -C --filelimit 10 -I '*.py*' $ROOT_DIR\n",
    "\n",
    "print()\n",
    "print('Files under the run directory:')\n",
    "!date\n",
    "!tree --noreport -C -D --filelimit 10 $WORK_ROOT/run\n",
    "\n",
    "print()\n",
    "print('Useful numbers:')\n",
    "R_TILE = desimodel.focalplane.get_tile_radius_deg()\n",
    "A_TILE = np.pi*R_TILE**2\n",
    "print('Tile radius: {:4.3f} deg'.format(R_TILE))\n",
    "print('Tile area:   {:4.3f} sq.deg.'.format(A_TILE))\n",
    "\n",
    "# Set up paths\n",
    "rundir   = os.path.join(WORK_ROOT,'run')\n",
    "datadir  = os.path.join(rundir,'data')\n",
    "outdir   = os.path.join(rundir,'output')\n",
    "\n",
    "for _dir in [rundir,datadir,outdir]:\n",
    "    os.makedirs(_dir,exist_ok=True)  \n",
    "    \n",
    "resource_paths = {\n",
    "     \"skies\"  : \"/project/projectdirs/desi/target/catalogs/dr7.1/0.22.0/\", \n",
    "     \"gfas\"   : \"/project/projectdirs/desi/target/catalogs/dr7.1/0.22.0/\",\n",
    "}\n",
    "\n",
    "resource_names = {\n",
    "    \"skies\"   : \"dr7.1-0.22.0.fits\", \n",
    "    \"gfas\"    : \"dr7.1.fits\",\n",
    "}\n",
    "\n",
    "mtl_path           = os.path.join(datadir, 'mtl.fits')\n",
    "std_path           = os.path.join(datadir, 'std.fits')\n",
    "local_targets_path = os.path.join(datadir, 'sv_targets.fits')\n",
    "\n",
    "sky_path     = os.path.join(resource_paths[\"skies\"], \n",
    "                          \"skies-{}\".format(resource_names[\"skies\"]))\n",
    "gfa_path     = os.path.join(resource_paths[\"gfas\"], \n",
    "                          \"gfas-{}\".format(resource_names[\"gfas\"]))"
   ]
  },
  {
   "cell_type": "code",
   "execution_count": 61,
   "metadata": {},
   "outputs": [
    {
     "name": "stdout",
     "output_type": "stream",
     "text": [
      "Have 292 sweep files\n"
     ]
    }
   ],
   "source": [
    "# Read the sweeps to use for targeting directly \n",
    "SWEEPS_RESET = False\n",
    "\n",
    "SWEEPS_DIR = '/project/projectdirs/cosmo/data/legacysurvey/dr7/sweep'\n",
    "SWEEPS_VER = '7.1'\n",
    "SWEEPS_HEADER_CACHE = os.path.join(ROOT_DIR,'cache/sweeps/')\n",
    "\n",
    "if not os.path.exists(os.path.join(SWEEPS_HEADER_CACHE,SWEEPS_VER)):\n",
    "    os.makedirs(os.path.join(SWEEPS_HEADER_CACHE,SWEEPS_VER))\n",
    "\n",
    "original_sweep_files = io.list_sweepfiles(os.path.join(SWEEPS_DIR,SWEEPS_VER))\n",
    "\n",
    "sweep_headers = list()\n",
    "for _ in original_sweep_files:\n",
    "    _base  = os.path.basename(_)\n",
    "    _cache = os.path.join(SWEEPS_HEADER_CACHE,SWEEPS_VER,_base)\n",
    "    if not os.path.exists(_cache) or SWEEPS_RESET:\n",
    "        h = fits.getheader(_)\n",
    "        h.tofile(_cache,overwrite=True)\n",
    "    else:\n",
    "        h = astropy.io.fits.header.Header.fromfile(_cache)\n",
    "    sweep_headers.append(h)\n",
    "\n",
    "nsweeps = len(sweep_headers)\n",
    "print('Have {} sweep files'.format(nsweeps))"
   ]
  },
  {
   "cell_type": "code",
   "execution_count": 62,
   "metadata": {},
   "outputs": [],
   "source": [
    "class Tile():\n",
    "    \"\"\"\n",
    "    Single desi tile\n",
    "    \"\"\"\n",
    "    def __init__(self,ra,dec,**kwargs):\n",
    "        self.ra            = ra\n",
    "        self.dec           = dec\n",
    "        self.tileid        = kwargs.get('tileid',0)\n",
    "        self.tilepass      = kwargs.get('tilepass',0)\n",
    "        self.in_desi       = kwargs.get('in_desi',0)\n",
    "        self.ebv           = kwargs.get('ebv',0.0)\n",
    "        self.airmass       = kwargs.get('airmass',1.0)\n",
    "        self.star_density  = kwargs.get('star_density',1.0)\n",
    "        self.exposefac     = kwargs.get('exposefac',1.0)\n",
    "        self.program       = kwargs.get('program','UNKNOWN')\n",
    "        self.obsconditions = kwargs.get('obsconditions',4)"
   ]
  },
  {
   "cell_type": "code",
   "execution_count": 63,
   "metadata": {},
   "outputs": [],
   "source": [
    "class Dither():\n",
    "    \"\"\"\n",
    "    Dither pattern with ndither tiles. Tile centres are evenly\n",
    "    spaced around a circle of rdither_max centred on (ra,dec).\n",
    "    \"\"\"\n",
    "    def __init__(self,ra,dec,ndither,rdither_max,**kwargs):\n",
    "        self.ra            = ra\n",
    "        self.dec           = dec\n",
    "        self.coord         = coord.SkyCoord(self.ra,self.dec,frame='icrs')\n",
    "        self.rdither_max   = rdither_max\n",
    "        self.tiles         = list()\n",
    "        self.r_dither      = rdither_max\n",
    "        self.theta_dither  = np.cumsum(np.repeat(2*np.pi/ndither,ndither))\n",
    "        self.ra_dither     = self.r_dither*np.sin(self.theta_dither)\n",
    "        self.dec_dither    = self.r_dither*np.cos(self.theta_dither)\n",
    "\n",
    "        self.ditherid      = kwargs.get('ditherid',0)\n",
    "        self.ditherpass    = kwargs.get('ditherpass',0)\n",
    "        self.program       = kwargs.get('program','MWSV')\n",
    "        self.obsconditions = kwargs.get('obsconditions',4)\n",
    "        \n",
    "        # Each dither step is a separate pass\n",
    "        for idither in range(0,ndither):\n",
    "            t = Tile(self.ra+self.ra_dither[idither],\n",
    "                     self.dec+self.dec_dither[idither],\n",
    "                     in_desi  = True,\n",
    "                     tileid   = 100*self.ditherid + idither,\n",
    "                     tilepass = self.ditherpass+idither,\n",
    "                     program  = self.program,\n",
    "                     obsconditions = self.obsconditions)\n",
    "            self.tiles.append(t)\n",
    "        \n",
    "    def extent(self):\n",
    "        \"\"\"\n",
    "        Bounding box of the pattern (used to cut out areas for\n",
    "        targeting)\n",
    "        \"\"\"\n",
    "        r   = desimodel.focalplane.get_tile_radius_deg()*u.deg\n",
    "        ra  = coord.Angle([_.ra for _ in self.tiles])\n",
    "        dec = coord.Angle([_.dec for _ in self.tiles])\n",
    "        \n",
    "        rmax = (ra.max() + coord.Angle(r)).wrap_at(360*u.deg)\n",
    "        rmin = (ra.min() - coord.Angle(r)).wrap_at(360*u.deg)\n",
    "        \n",
    "        dmax = np.minimum( 90*u.deg,(np.max(dec) + coord.Angle(r)))\n",
    "        dmin = np.maximum(-90*u.deg,(np.min(dec) - coord.Angle(r)))\n",
    "        \n",
    "        return rmin,rmax,dmin,dmax\n",
    "    \n",
    "    def to_table(self):\n",
    "        \"\"\"\n",
    "        Write the dither pattern in the data model for desi tile\n",
    "        files.\n",
    "        \"\"\"\n",
    "        dmodel = {\n",
    "        'TILEID': '>i4',\n",
    "        'RA': '>f8',\n",
    "        'DEC': '>f8',\n",
    "        'PASS': '>i2',\n",
    "        'IN_DESI': '>i2',\n",
    "        'EBV_MED': '>f4',\n",
    "        'AIRMASS': '>f4',\n",
    "        'STAR_DENSITY': '>f4',\n",
    "        'EXPOSEFAC': '>f4',\n",
    "        'PROGRAM': '<U6',\n",
    "        'OBSCONDITIONS': '>i4',\n",
    "        }\n",
    "        t = Table()\n",
    "        \n",
    "        data = {\n",
    "            'TILEID': np.array([_.tileid for _ in self.tiles]),\n",
    "            'RA': np.array([_.ra.deg for _ in self.tiles]),\n",
    "            'DEC': np.array([_.dec.deg for _ in self.tiles]), \n",
    "            'PASS': np.array([_.tilepass for _ in self.tiles]),\n",
    "            'IN_DESI': np.array([_.in_desi for _ in self.tiles]),\n",
    "            'EBV_MED': np.array([_.ebv for _ in self.tiles]),\n",
    "            'AIRMASS': np.array([_.airmass for _ in self.tiles]),\n",
    "            'STAR_DENSITY': np.array([_.star_density for _ in self.tiles]),\n",
    "            'EXPOSEFAC': np.array([_.exposefac for _ in self.tiles]),\n",
    "            'PROGRAM': np.array([_.program for _ in self.tiles]),\n",
    "            'OBSCONDITIONS': np.array([_.obsconditions for _ in self.tiles]),\n",
    "        }\n",
    "        \n",
    "        for k,v in data.items():\n",
    "            t.add_column(Column(data=v,dtype=dmodel[k],name=k))\n",
    "\n",
    "        return t"
   ]
  },
  {
   "cell_type": "markdown",
   "metadata": {},
   "source": [
    "# MWS SV basic example\n",
    "\n",
    "Only one tile."
   ]
  },
  {
   "cell_type": "markdown",
   "metadata": {},
   "source": [
    "## Set up the tiles"
   ]
  },
  {
   "cell_type": "code",
   "execution_count": 64,
   "metadata": {},
   "outputs": [],
   "source": [
    "R_DITHER = 10.0*u.arcmin\n",
    "N_DITHER = 1"
   ]
  },
  {
   "cell_type": "code",
   "execution_count": 65,
   "metadata": {},
   "outputs": [],
   "source": [
    "C1 = coord.SkyCoord(270,60,unit='deg',frame='galactic')"
   ]
  },
  {
   "cell_type": "code",
   "execution_count": 66,
   "metadata": {},
   "outputs": [],
   "source": [
    "D  = Dither(C1.icrs.ra,C1.icrs.dec,N_DITHER,R_DITHER)"
   ]
  },
  {
   "cell_type": "code",
   "execution_count": 67,
   "metadata": {},
   "outputs": [
    {
     "data": {
      "text/html": [
       "&lt;Table length=1&gt;\n",
       "<table id=\"table47297537928104\" class=\"table-striped table-bordered table-condensed\">\n",
       "<thead><tr><th>TILEID</th><th>RA</th><th>DEC</th><th>PASS</th><th>IN_DESI</th><th>EBV_MED</th><th>AIRMASS</th><th>STAR_DENSITY</th><th>EXPOSEFAC</th><th>PROGRAM</th><th>OBSCONDITIONS</th></tr></thead>\n",
       "<thead><tr><th>int32</th><th>float64</th><th>float64</th><th>int16</th><th>int16</th><th>float32</th><th>float32</th><th>float32</th><th>float32</th><th>str6</th><th>int32</th></tr></thead>\n",
       "<tr><td>0</td><td>177.083108256</td><td>1.39303175762</td><td>0</td><td>1</td><td>0.0</td><td>1.0</td><td>1.0</td><td>1.0</td><td>MWSV</td><td>4</td></tr>\n",
       "</table>"
      ],
      "text/plain": [
       "<Table length=1>\n",
       "TILEID       RA           DEC       PASS ... EXPOSEFAC PROGRAM OBSCONDITIONS\n",
       "int32     float64       float64    int16 ...  float32    str6      int32    \n",
       "------ ------------- ------------- ----- ... --------- ------- -------------\n",
       "     0 177.083108256 1.39303175762     0 ...       1.0    MWSV             4"
      ]
     },
     "execution_count": 67,
     "metadata": {},
     "output_type": "execute_result"
    }
   ],
   "source": [
    "D.to_table()"
   ]
  },
  {
   "cell_type": "code",
   "execution_count": 68,
   "metadata": {},
   "outputs": [],
   "source": [
    "# Write MWS SV tiles\n",
    "tile_path = os.path.join(WORK_ROOT,'tiles','mws_sv_tiles.fits')\n",
    "os.makedirs(os.path.dirname(tile_path),exist_ok=True)\n",
    "D.to_table().write(tile_path,overwrite=True)"
   ]
  },
  {
   "cell_type": "code",
   "execution_count": 69,
   "metadata": {},
   "outputs": [],
   "source": [
    "# Which sweeps cover our tiles?\n",
    "sweep_files = io.list_sweepfiles(os.path.join(SWEEPS_HEADER_CACHE))"
   ]
  },
  {
   "cell_type": "code",
   "execution_count": 70,
   "metadata": {},
   "outputs": [],
   "source": [
    "rmin,rmax,dmin,dmax = D.extent()\n",
    "corners_ra  = [_.value for _ in [rmin,rmin,rmax,rmax]]\n",
    "corners_dec = [_.value for _ in [dmin,dmax,dmax,dmin]]\n",
    "dither_poly  = spoly.SphericalPolygon.from_radec(corners_ra,corners_dec)\n",
    "\n",
    "sweep_polys   = list()\n",
    "sweeps_for_sv = list()\n",
    "for f in sweep_files:\n",
    "    h = fits.getheader(f)\n",
    "    corners_ra  = [h['RAMIN'],h['RAMIN'],h['RAMAX'],h['RAMAX']]\n",
    "    corners_dec = [h['DECMIN'],h['DECMAX'],h['DECMAX'],h['DECMIN']]\n",
    "    sweep_poly  = spoly.SphericalPolygon.from_radec(corners_ra,corners_dec)\n",
    "    intersection = sweep_poly.intersection(dither_poly)\n",
    "    if len(intersection) > 0:\n",
    "        sweep_polys.append(sweep_poly)\n",
    "        sweeps_for_sv.append(f)"
   ]
  },
  {
   "cell_type": "code",
   "execution_count": 71,
   "metadata": {},
   "outputs": [
    {
     "data": {
      "image/png": "[encoded data removed]",
      "text/plain": [
       "<matplotlib.figure.Figure at 0x2b04501f7e48>"
      ]
     },
     "metadata": {},
     "output_type": "display_data"
    }
   ],
   "source": [
    "pl.figure(figsize=(15,10))\n",
    "color_cycle = pl.rcParams['axes.prop_cycle']\n",
    "\n",
    "with warnings.catch_warnings():\n",
    "    warnings.filterwarnings(\"ignore\",category=matplotlib.cbook.mplDeprecation)\n",
    "    m = desiutil.plots.init_sky(ecliptic_color='g')\n",
    "    dither_poly.draw(m)\n",
    "\n",
    "    for sweep_poly,c in zip(sweep_polys,color_cycle):\n",
    "        sweep_poly.draw(m,c=c['color'])"
   ]
  },
  {
   "cell_type": "markdown",
   "metadata": {},
   "source": [
    "## Create an input target catalog from the sweeps"
   ]
  },
  {
   "cell_type": "markdown",
   "metadata": {},
   "source": [
    "This uses `desitarget_cuts` to assign target classes to objects. It doesn't assign priorities etc.; that happens when the MTL is made in the next section.\n",
    "\n",
    "We define a custom SV target bitmasks and patch `desitarget` to implement cuts that use those."
   ]
  },
  {
   "cell_type": "raw",
   "metadata": {},
   "source": [
    "# For reference, show how the select_sv_targets script is run\n",
    "!select_sv_targets -h"
   ]
  },
  {
   "cell_type": "markdown",
   "metadata": {},
   "source": [
    "Patch in our own target mask to customize priorities etc."
   ]
  },
  {
   "cell_type": "code",
   "execution_count": 101,
   "metadata": {},
   "outputs": [
    {
     "data": {
      "text/plain": [
       "<module 'desitarget.cuts' from '/global/common/software/desi/cori/desiconda/20180709-1.2.6-spec/code/desitarget/master/py/desitarget/cuts.py'>"
      ]
     },
     "execution_count": 101,
     "metadata": {},
     "output_type": "execute_result"
    }
   ],
   "source": [
    "import apcsv.patch\n",
    "reload(apcsv.patch)\n",
    "from apcsv.patch import patch_desitarget_bits\n",
    "\n",
    "# Restores targetmask to default\n",
    "reload(desitarget)\n",
    "reload(desitarget.targetmask)\n",
    "reload(desitarget.mtl)\n",
    "reload(desitarget.targets)\n",
    "reload(desitarget.cuts)"
   ]
  },
  {
   "cell_type": "code",
   "execution_count": 102,
   "metadata": {},
   "outputs": [
    {
     "name": "stdout",
     "output_type": "stream",
     "text": [
      "MWS_BROAD\n",
      "MWS_WD\n",
      "MWS_NEARBY\n",
      "MWS_BROAD_NORTH\n",
      "MWS_BROAD_SOUTH\n",
      "MWS_MAIN_BLUE\n",
      "MWS_MAIN_BLUE_NORTH\n",
      "MWS_MAIN_BLUE_SOUTH\n",
      "MWS_MAIN_RED\n",
      "MWS_MAIN_RED_NORTH\n",
      "MWS_MAIN_RED_SOUTH\n",
      "MWS_MAIN_BLUE_FAINT\n",
      "MWS_MAIN_BLUE_FAINT_NORTH\n",
      "MWS_MAIN_BLUE_FAINT_SOUTH\n",
      "MWS_MAIN_RED_FAINT\n",
      "MWS_MAIN_RED_FAINT_NORTH\n",
      "MWS_MAIN_RED_FAINT_SOUTH\n"
     ]
    },
    {
     "data": {
      "text/plain": [
       "False"
      ]
     },
     "execution_count": 102,
     "metadata": {},
     "output_type": "execute_result"
    }
   ],
   "source": [
    "# Check the existing definitions\n",
    "for _ in mws_mask.names(): print(_)\n",
    "mws_mask.names() == desitarget.targetmask.mws_mask.names()"
   ]
  },
  {
   "cell_type": "code",
   "execution_count": 103,
   "metadata": {},
   "outputs": [],
   "source": [
    "# Patch with our definitions\n",
    "new_yaml = os.path.join(ROOT_DIR,'targetmasks/mws_sv_fix_targetmask.yaml')\n",
    "desi_mask, bgs_mask, mws_mask, obsmask, obsconditions = patch_desitarget_bits(desitarget,\n",
    "                                                                              new_yaml)\n",
    "# Reload functions\n",
    "import desitarget.mtl\n",
    "reload(desitarget.mtl)\n",
    "\n",
    "import desitarget.targets\n",
    "reload(desitarget.targets)\n",
    "\n",
    "import desitarget.cuts\n",
    "reload(desitarget.cuts);"
   ]
  },
  {
   "cell_type": "code",
   "execution_count": 104,
   "metadata": {},
   "outputs": [],
   "source": [
    "# Now patch desitarget cuts with our own cuts\n",
    "import apcsv.cuts\n",
    "reload(apcsv.cuts)\n",
    "\n",
    "desitarget.cuts.isMWS_main_colors   = apcsv.cuts.isMWS_main_colors\n",
    "desitarget.cuts.notinMWS_main_mask  = apcsv.cuts.notinMWS_main_mask\n",
    "\n",
    "desitarget.cuts.isMWS_faint_colors  = apcsv.cuts.isMWS_faint_colors\n",
    "desitarget.cuts.notinMWS_faint_mask = apcsv.cuts.notinMWS_faint_mask\n",
    "\n",
    "desitarget.cuts.isMWS_main          = apcsv.cuts.isMWS_main\n",
    "\n",
    "# Patch the target selection functions\n",
    "desitarget.cuts.set_target_bits     = apcsv.cuts.set_target_bits"
   ]
  },
  {
   "cell_type": "code",
   "execution_count": 105,
   "metadata": {},
   "outputs": [
    {
     "name": "stdout",
     "output_type": "stream",
     "text": [
      "MWS_BROAD\n",
      "MWS_WD\n",
      "MWS_NEARBY\n",
      "MWS_BROAD_NORTH\n",
      "MWS_BROAD_SOUTH\n",
      "MWS_MAIN_BLUE\n",
      "MWS_MAIN_BLUE_NORTH\n",
      "MWS_MAIN_BLUE_SOUTH\n",
      "MWS_MAIN_RED\n",
      "MWS_MAIN_RED_NORTH\n",
      "MWS_MAIN_RED_SOUTH\n",
      "MWS_MAIN_BLUE_FAINT\n",
      "MWS_MAIN_BLUE_FAINT_NORTH\n",
      "MWS_MAIN_BLUE_FAINT_SOUTH\n",
      "MWS_MAIN_RED_FAINT\n",
      "MWS_MAIN_RED_FAINT_NORTH\n",
      "MWS_MAIN_RED_FAINT_SOUTH\n"
     ]
    },
    {
     "data": {
      "text/plain": [
       "True"
      ]
     },
     "execution_count": 105,
     "metadata": {},
     "output_type": "execute_result"
    }
   ],
   "source": [
    "# Check these are what we want\n",
    "for _ in mws_mask.names(): print(_)\n",
    "mws_mask.names() == desitarget.targetmask.mws_mask.names()"
   ]
  },
  {
   "cell_type": "code",
   "execution_count": 106,
   "metadata": {},
   "outputs": [],
   "source": [
    "sweep_filenames = [os.path.basename(_) for _ in original_sweep_files]\n",
    "sweep_index     = [sweep_filenames.index(os.path.basename(_)) for _ in sweeps_for_sv]"
   ]
  },
  {
   "cell_type": "code",
   "execution_count": 107,
   "metadata": {},
   "outputs": [
    {
     "name": "stdout",
     "output_type": "stream",
     "text": [
      "Have 2 sweeps as input\n",
      "Targets already in /global/u1/a/apcooper/projects/mws_svplan/runs/single_dark_tile/run/data/sv_targets.fits\n"
     ]
    }
   ],
   "source": [
    "# This cell runs the select_targets function from desitarget.\n",
    "# This is equivalent to running the select_sv_targets script.\n",
    "\n",
    "# If true, regenerate targets\n",
    "reset_target_input = False\n",
    "\n",
    "with warnings.catch_warnings():\n",
    "    warnings.filterwarnings(\"ignore\",category=UserWarning, module=\"matplotlib\")\n",
    "    # This tries to set the mpl backend\n",
    "    from desitarget.QA import _parse_tcnames\n",
    "\n",
    "from desiutil.log import get_logger\n",
    "log = get_logger()\n",
    "\n",
    "print('Have {:d} sweeps as input'.format(len(sweep_index)))\n",
    "\n",
    "dest = os.path.join(datadir,'sv_targets.fits')\n",
    "\n",
    "# Which target classes to include\n",
    "tcnames = _parse_tcnames('MWS,BGS,STD')\n",
    "# tcnames = _parse_tcnames(tcstring=None, add_all=False)\n",
    "\n",
    "if (not os.path.exists(dest)) or reset_target_input:\n",
    "    sweep_input  = [original_sweep_files[_] for _ in sweep_index]\n",
    "    srcdir       = os.path.dirname(sweep_filenames[0])\n",
    "    qsoselection = 'colorcuts'\n",
    "    nside        = io.desitarget_nside()\n",
    "    survey       = 'main'\n",
    "    \n",
    "    # We trap a lot of floating point warnings\n",
    "    print('Selecting targets...')\n",
    "    with warnings.catch_warnings(record=True) as w:\n",
    "        warnings.simplefilter(\"always\")\n",
    "        targets = desitarget.cuts.select_targets(sweep_input, \n",
    "                             numproc = 4,\n",
    "                             qso_selection = qsoselection, \n",
    "                             tcnames = tcnames, \n",
    "                             survey  = survey)\n",
    "\n",
    "        # Report warnings\n",
    "        _us,_cs = np.unique([_.category for _ in w],return_counts=True)\n",
    "        print('{} warnings from select_targets'.format(len(w)))\n",
    "        for _u,_c in zip(_us,_cs):\n",
    "            print(\"%15s %10d\".format(_u,_c))\n",
    "\n",
    "    io.write_targets(dest, targets, indir=srcdir, survey=survey,\n",
    "                     qso_selection=qsoselection, nside=nside)\n",
    "    print('Wrote targets to {}'.format(dest))\n",
    "else:\n",
    "    print('Targets already in {}'.format(dest))"
   ]
  },
  {
   "cell_type": "markdown",
   "metadata": {},
   "source": [
    "## Prepare MTL"
   ]
  },
  {
   "cell_type": "markdown",
   "metadata": {},
   "source": [
    "Reads the target list prepared above and converts it to MTL input for fiberassign."
   ]
  },
  {
   "cell_type": "code",
   "execution_count": 108,
   "metadata": {},
   "outputs": [],
   "source": [
    "targetdata = fitsio.read(local_targets_path)"
   ]
  },
  {
   "cell_type": "code",
   "execution_count": 109,
   "metadata": {},
   "outputs": [
    {
     "name": "stdout",
     "output_type": "stream",
     "text": [
      "computing mtl\n",
      "INFO:mtl.py:87:make_mtl: 864 of 599600 targets have priority zero, setting N_obs=0.\n",
      "Wrote /global/u1/a/apcooper/projects/mws_svplan/runs/single_dark_tile/run/data/mtl.fits\n",
      "MWS_TARGETS: 454339\n",
      "BGS_TARGETS: 3921\n",
      "DESI_TARGETS: 454339\n",
      "finished computing mtl\n"
     ]
    }
   ],
   "source": [
    "# Compute MTL\n",
    "reset_mtl = True\n",
    "if not os.path.exists(mtl_path) or reset_mtl:\n",
    "    \n",
    "    if reset_mtl:\n",
    "        if os.path.exists(mtl_path):\n",
    "            os.remove(mtl_path)\n",
    "        \n",
    "    print('computing mtl')\n",
    "    mtl = desitarget.mtl.make_mtl(targetdata)\n",
    "    \n",
    "    # only include MWS\n",
    "    ismws = mtl['MWS_TARGET']!=0\n",
    "    mtl   = mtl[ismws]\n",
    "\n",
    "    mtl.meta['EXTNAME'] = 'MTL'\n",
    "    \n",
    "    mtl.write(mtl_path)\n",
    "    print('Wrote {}'.format(mtl_path))\n",
    "\n",
    "    # Print some stats\n",
    "    print('MWS_TARGETS: {}'.format(np.count_nonzero(mtl['MWS_TARGET']!=0)))\n",
    "    print('BGS_TARGETS: {}'.format(np.count_nonzero(mtl['BGS_TARGET']!=0)))\n",
    "    print('DESI_TARGETS: {}'.format(np.count_nonzero(mtl['DESI_TARGET']!=0)))\n",
    "    print('finished computing mtl')\n",
    "else:\n",
    "    mtl = fitsio.read(mtl_path)"
   ]
  },
  {
   "cell_type": "code",
   "execution_count": 110,
   "metadata": {},
   "outputs": [
    {
     "data": {
      "text/plain": [
       "['MWS_BROAD',\n",
       " 'MWS_WD',\n",
       " 'MWS_NEARBY',\n",
       " 'MWS_BROAD_NORTH',\n",
       " 'MWS_BROAD_SOUTH',\n",
       " 'MWS_MAIN_BLUE',\n",
       " 'MWS_MAIN_BLUE_NORTH',\n",
       " 'MWS_MAIN_BLUE_SOUTH',\n",
       " 'MWS_MAIN_RED',\n",
       " 'MWS_MAIN_RED_NORTH',\n",
       " 'MWS_MAIN_RED_SOUTH',\n",
       " 'MWS_MAIN_BLUE_FAINT',\n",
       " 'MWS_MAIN_BLUE_FAINT_NORTH',\n",
       " 'MWS_MAIN_BLUE_FAINT_SOUTH',\n",
       " 'MWS_MAIN_RED_FAINT',\n",
       " 'MWS_MAIN_RED_FAINT_NORTH',\n",
       " 'MWS_MAIN_RED_FAINT_SOUTH']"
      ]
     },
     "execution_count": 110,
     "metadata": {},
     "output_type": "execute_result"
    }
   ],
   "source": [
    "mws_mask.names()"
   ]
  },
  {
   "cell_type": "code",
   "execution_count": 111,
   "metadata": {},
   "outputs": [
    {
     "data": {
      "text/plain": [
       "'GRAY|DARK'"
      ]
     },
     "execution_count": 111,
     "metadata": {},
     "output_type": "execute_result"
    }
   ],
   "source": [
    "mws_mask['MWS_MAIN_BLUE_FAINT_SOUTH'].obsconditions"
   ]
  },
  {
   "cell_type": "markdown",
   "metadata": {},
   "source": [
    "Some basic analysis of the MTL:"
   ]
  },
  {
   "cell_type": "code",
   "execution_count": 112,
   "metadata": {},
   "outputs": [
    {
     "name": "stdout",
     "output_type": "stream",
     "text": [
      "STD_FAINT 9256 3 0\n",
      "STD_WD 470 7 0\n",
      "STD_BRIGHT 4211 4 4211\n",
      "BGS_ANY 3921 1 51\n",
      "MWS_ANY 454339 1 9726\n",
      "MWS_BROAD 49021 7 49018\n",
      "MWS_WD 470 7 0\n",
      "MWS_NEARBY 707 7 512\n",
      "MWS_BROAD_NORTH 49021 7 0\n",
      "MWS_BROAD_SOUTH 49021 7 0\n",
      "MWS_MAIN_BLUE 43230 7 38882\n",
      "MWS_MAIN_BLUE_NORTH 43230 7 0\n",
      "MWS_MAIN_BLUE_SOUTH 43230 7 0\n",
      "MWS_MAIN_RED 6834 7 6834\n",
      "MWS_MAIN_RED_NORTH 6834 7 0\n",
      "MWS_MAIN_RED_SOUTH 6834 7 0\n",
      "MWS_MAIN_BLUE_FAINT 135746 3 135746\n",
      "MWS_MAIN_BLUE_FAINT_NORTH 135746 3 304\n",
      "MWS_MAIN_BLUE_FAINT_SOUTH 135746 3 304\n",
      "MWS_MAIN_RED_FAINT 219058 3 219058\n",
      "MWS_MAIN_RED_FAINT_NORTH 219058 3 88\n",
      "MWS_MAIN_RED_FAINT_SOUTH 219058 3 88\n",
      "BGS_FAINT 124 7 124\n",
      "BGS_BRIGHT 110 4 110\n",
      "BGS_WISE 3687 4 3687\n",
      "BGS_FAINT_NORTH 124 7 0\n",
      "BGS_BRIGHT_NORTH 110 4 110\n",
      "BGS_WISE_NORTH 3687 4 3687\n",
      "BGS_FAINT_SOUTH 124 7 0\n",
      "BGS_BRIGHT_SOUTH 110 4 110\n",
      "BGS_WISE_SOUTH 3687 4 3687\n"
     ]
    }
   ],
   "source": [
    "n= len(mtl)\n",
    "kk = np.zeros(n, dtype='i4')\n",
    "\n",
    "for mask, xxx_target in [\n",
    "    (desi_mask, 'DESI_TARGET'),\n",
    "    (mws_mask, 'MWS_TARGET'),\n",
    "    (bgs_mask, 'BGS_TARGET') ]:\n",
    "    for name in mask.names():\n",
    "        #- which targets have this bit for this mask set?\n",
    "        ii = (mtl[xxx_target] & mask[name]) != 0\n",
    "        #- under what conditions can that bit be observed?\n",
    "        if np.any(ii):\n",
    "            _ = obsconditions.mask(mask[name].obsconditions)\n",
    "            print(name, ii.sum(),_,\n",
    "                  np.sum((kk[ii] > 0) & (kk[ii] != _)))\n",
    "            kk[ii] |= obsconditions.mask(mask[name].obsconditions)"
   ]
  },
  {
   "cell_type": "code",
   "execution_count": 113,
   "metadata": {},
   "outputs": [
    {
     "data": {
      "text/plain": [
       "array([3, 7], dtype=int32)"
      ]
     },
     "execution_count": 113,
     "metadata": {},
     "output_type": "execute_result"
    }
   ],
   "source": [
    "np.unique(kk)"
   ]
  },
  {
   "cell_type": "code",
   "execution_count": 115,
   "metadata": {},
   "outputs": [
    {
     "data": {
      "text/plain": [
       "['DARK', 'GRAY']"
      ]
     },
     "execution_count": 115,
     "metadata": {},
     "output_type": "execute_result"
    }
   ],
   "source": [
    "obsconditions.names(3)"
   ]
  },
  {
   "cell_type": "code",
   "execution_count": 116,
   "metadata": {},
   "outputs": [
    {
     "data": {
      "text/html": [
       "&lt;Table length=2&gt;\n",
       "<table id=\"table47297558276024\" class=\"table-striped table-bordered table-condensed\">\n",
       "<thead><tr><th>RELEASE</th><th>BRICKID</th><th>BRICKNAME</th><th>BRICK_OBJID</th><th>MORPHTYPE</th><th>RA</th><th>DEC</th><th>RA_IVAR</th><th>DEC_IVAR</th><th>DCHISQ [5]</th><th>EBV</th><th>FLUX_G</th><th>FLUX_R</th><th>FLUX_Z</th><th>FLUX_W1</th><th>FLUX_W2</th><th>FLUX_W3</th><th>FLUX_W4</th><th>FLUX_IVAR_G</th><th>FLUX_IVAR_R</th><th>FLUX_IVAR_Z</th><th>FLUX_IVAR_W1</th><th>FLUX_IVAR_W2</th><th>FLUX_IVAR_W3</th><th>FLUX_IVAR_W4</th><th>MW_TRANSMISSION_G</th><th>MW_TRANSMISSION_R</th><th>MW_TRANSMISSION_Z</th><th>MW_TRANSMISSION_W1</th><th>MW_TRANSMISSION_W2</th><th>MW_TRANSMISSION_W3</th><th>MW_TRANSMISSION_W4</th><th>NOBS_G</th><th>NOBS_R</th><th>NOBS_Z</th><th>FRACFLUX_G</th><th>FRACFLUX_R</th><th>FRACFLUX_Z</th><th>FRACMASKED_G</th><th>FRACMASKED_R</th><th>FRACMASKED_Z</th><th>FRACIN_G</th><th>FRACIN_R</th><th>FRACIN_Z</th><th>ALLMASK_G</th><th>ALLMASK_R</th><th>ALLMASK_Z</th><th>PSFDEPTH_G</th><th>PSFDEPTH_R</th><th>PSFDEPTH_Z</th><th>GALDEPTH_G</th><th>GALDEPTH_R</th><th>GALDEPTH_Z</th><th>FRACDEV</th><th>FRACDEV_IVAR</th><th>SHAPEDEV_R</th><th>SHAPEDEV_R_IVAR</th><th>SHAPEDEV_E1</th><th>SHAPEDEV_E1_IVAR</th><th>SHAPEDEV_E2</th><th>SHAPEDEV_E2_IVAR</th><th>SHAPEEXP_R</th><th>SHAPEEXP_R_IVAR</th><th>SHAPEEXP_E1</th><th>SHAPEEXP_E1_IVAR</th><th>SHAPEEXP_E2</th><th>SHAPEEXP_E2_IVAR</th><th>FIBERFLUX_G</th><th>FIBERFLUX_R</th><th>FIBERFLUX_Z</th><th>FIBERTOTFLUX_G</th><th>FIBERTOTFLUX_R</th><th>FIBERTOTFLUX_Z</th><th>REF_ID</th><th>GAIA_PHOT_G_MEAN_MAG</th><th>GAIA_PHOT_G_MEAN_FLUX_OVER_ERROR</th><th>GAIA_PHOT_BP_MEAN_MAG</th><th>GAIA_PHOT_BP_MEAN_FLUX_OVER_ERROR</th><th>GAIA_PHOT_RP_MEAN_MAG</th><th>GAIA_PHOT_RP_MEAN_FLUX_OVER_ERROR</th><th>GAIA_ASTROMETRIC_EXCESS_NOISE</th><th>GAIA_DUPLICATED_SOURCE</th><th>PARALLAX</th><th>PARALLAX_IVAR</th><th>PMRA</th><th>PMRA_IVAR</th><th>PMDEC</th><th>PMDEC_IVAR</th><th>BRIGHTSTARINBLOB</th><th>PHOTSYS</th><th>TARGETID</th><th>DESI_TARGET</th><th>BGS_TARGET</th><th>MWS_TARGET</th><th>SUBPRIORITY</th><th>HPXPIXEL</th><th>NUMOBS_MORE</th><th>PRIORITY</th><th>OBSCONDITIONS</th></tr></thead>\n",
       "<thead><tr><th>int32</th><th>int32</th><th>bytes8</th><th>int32</th><th>bytes4</th><th>float64</th><th>float64</th><th>float32</th><th>float32</th><th>float32</th><th>float32</th><th>float32</th><th>float32</th><th>float32</th><th>float32</th><th>float32</th><th>float32</th><th>float32</th><th>float32</th><th>float32</th><th>float32</th><th>float32</th><th>float32</th><th>float32</th><th>float32</th><th>float32</th><th>float32</th><th>float32</th><th>float32</th><th>float32</th><th>float32</th><th>float32</th><th>int16</th><th>int16</th><th>int16</th><th>float32</th><th>float32</th><th>float32</th><th>float32</th><th>float32</th><th>float32</th><th>float32</th><th>float32</th><th>float32</th><th>int16</th><th>int16</th><th>int16</th><th>float32</th><th>float32</th><th>float32</th><th>float32</th><th>float32</th><th>float32</th><th>float32</th><th>float32</th><th>float32</th><th>float32</th><th>float32</th><th>float32</th><th>float32</th><th>float32</th><th>float32</th><th>float32</th><th>float32</th><th>float32</th><th>float32</th><th>float32</th><th>float32</th><th>float32</th><th>float32</th><th>float32</th><th>float32</th><th>float32</th><th>int64</th><th>float32</th><th>float32</th><th>float32</th><th>float32</th><th>float32</th><th>float32</th><th>float32</th><th>bool</th><th>float32</th><th>float32</th><th>float32</th><th>float32</th><th>float32</th><th>float32</th><th>bool</th><th>bytes1</th><th>int64</th><th>int64</th><th>int64</th><th>int64</th><th>float64</th><th>int64</th><th>int32</th><th>int64</th><th>int32</th></tr></thead>\n",
       "<tr><td>7000</td><td>309476</td><td>1758m037</td><td>17</td><td>PSF</td><td>175.746271327</td><td>-3.87414409213</td><td>4.79072e+11</td><td>5.16176e+11</td><td>17184.5 .. 0.0</td><td>0.0242219</td><td>2.39132</td><td>4.52241</td><td>6.31422</td><td>1.93724</td><td>0.183091</td><td>6.59739</td><td>418.952</td><td>921.345</td><td>337.171</td><td>126.254</td><td>2.68729</td><td>0.495305</td><td>0.000844025</td><td>1.99513e-05</td><td>0.930808</td><td>0.952848</td><td>0.973345</td><td>0.995903</td><td>0.997482</td><td>0.999462</td><td>0.999797</td><td>3</td><td>3</td><td>4</td><td>0.00133273</td><td>0.00734054</td><td>0.00836629</td><td>0.0128835</td><td>0.0328306</td><td>0.0190553</td><td>0.999617</td><td>0.999306</td><td>0.997198</td><td>0</td><td>0</td><td>0</td><td>1413.67</td><td>463.854</td><td>136.339</td><td>802.651</td><td>298.765</td><td>73.2055</td><td>0.0</td><td>0.0</td><td>0.0</td><td>0.0</td><td>0.0</td><td>0.0</td><td>0.0</td><td>0.0</td><td>0.0</td><td>0.0</td><td>0.0</td><td>0.0</td><td>0.0</td><td>0.0</td><td>1.85754</td><td>3.51294</td><td>4.90479</td><td>1.85754</td><td>3.51294</td><td>4.90479</td><td>0</td><td>0.0</td><td>0.0</td><td>0.0</td><td>0.0</td><td>0.0</td><td>0.0</td><td>0.0</td><td>False</td><td>0.0</td><td>0.0</td><td>0.0</td><td>0.0</td><td>0.0</td><td>0.0</td><td>False</td><td>S</td><td>30787623614152721</td><td>2305843009213693952</td><td>0</td><td>114688</td><td>0.906783787488</td><td>25579</td><td>1</td><td>1550</td><td>3</td></tr>\n",
       "<tr><td>7000</td><td>309476</td><td>1758m037</td><td>21</td><td>PSF</td><td>175.978796686</td><td>-3.874213462</td><td>4.78233e+13</td><td>1.97441e+14</td><td>96735.3 .. 0.0</td><td>0.0264122</td><td>13.0541</td><td>16.1182</td><td>16.6104</td><td>3.72774</td><td>1.48958</td><td>31.9068</td><td>-314.908</td><td>234.98</td><td>140.523</td><td>73.1918</td><td>2.76127</td><td>0.500136</td><td>0.00106286</td><td>2.26842e-05</td><td>0.924793</td><td>0.948696</td><td>0.97097</td><td>0.995534</td><td>0.997255</td><td>0.999414</td><td>0.999779</td><td>2</td><td>2</td><td>3</td><td>3.39329e-05</td><td>7.27919e-05</td><td>0.000223807</td><td>0.0184273</td><td>0.0152542</td><td>0.0302612</td><td>0.998661</td><td>0.997917</td><td>0.993947</td><td>0</td><td>0</td><td>0</td><td>871.04</td><td>348.148</td><td>89.129</td><td>467.553</td><td>200.569</td><td>46.0888</td><td>0.0</td><td>0.0</td><td>0.0</td><td>0.0</td><td>0.0</td><td>0.0</td><td>0.0</td><td>0.0</td><td>0.0</td><td>0.0</td><td>0.0</td><td>0.0</td><td>0.0</td><td>0.0</td><td>10.1583</td><td>12.5427</td><td>12.9257</td><td>10.1583</td><td>12.5427</td><td>12.9257</td><td>3600042240342830848</td><td>19.5505</td><td>251.736</td><td>19.766</td><td>15.6556</td><td>19.1888</td><td>16.6083</td><td>0.0</td><td>False</td><td>0.302915</td><td>2.90108</td><td>-3.79489</td><td>1.08388</td><td>-0.55962</td><td>4.44368</td><td>False</td><td>S</td><td>30787623614152725</td><td>2305843009213693952</td><td>0</td><td>114688</td><td>0.0775133739913</td><td>25579</td><td>1</td><td>1550</td><td>3</td></tr>\n",
       "</table>"
      ],
      "text/plain": [
       "<Table length=2>\n",
       "RELEASE BRICKID BRICKNAME BRICK_OBJID ... NUMOBS_MORE PRIORITY OBSCONDITIONS\n",
       " int32   int32    bytes8     int32    ...    int32     int64       int32    \n",
       "------- ------- --------- ----------- ... ----------- -------- -------------\n",
       "   7000  309476  1758m037          17 ...           1     1550             3\n",
       "   7000  309476  1758m037          21 ...           1     1550             3"
      ]
     },
     "execution_count": 116,
     "metadata": {},
     "output_type": "execute_result"
    }
   ],
   "source": [
    "mtl[0:2]"
   ]
  },
  {
   "cell_type": "code",
   "execution_count": 117,
   "metadata": {},
   "outputs": [
    {
     "name": "stdout",
     "output_type": "stream",
     "text": [
      "['MWS_WD']\n",
      "    ['COMP', 'PSF']\n",
      "['MWS_NEARBY']\n",
      "    ['COMP', 'PSF', 'REX']\n",
      "['MWS_WD', 'MWS_NEARBY']\n",
      "    ['EXP', 'PSF']\n",
      "['MWS_BROAD', 'MWS_BROAD_NORTH', 'MWS_BROAD_SOUTH']\n",
      "    ['PSF']\n",
      "['MWS_BROAD', 'MWS_NEARBY', 'MWS_BROAD_NORTH', 'MWS_BROAD_SOUTH']\n",
      "    ['PSF']\n",
      "['MWS_BROAD', 'MWS_WD', 'MWS_NEARBY', 'MWS_BROAD_NORTH', 'MWS_BROAD_SOUTH']\n",
      "    ['PSF']\n",
      "['MWS_MAIN_BLUE', 'MWS_MAIN_BLUE_NORTH', 'MWS_MAIN_BLUE_SOUTH']\n",
      "    ['PSF']\n",
      "['MWS_WD', 'MWS_MAIN_BLUE', 'MWS_MAIN_BLUE_NORTH', 'MWS_MAIN_BLUE_SOUTH']\n",
      "    ['PSF']\n",
      "['MWS_NEARBY', 'MWS_MAIN_BLUE', 'MWS_MAIN_BLUE_NORTH', 'MWS_MAIN_BLUE_SOUTH']\n",
      "    ['PSF']\n",
      "['MWS_WD', 'MWS_NEARBY', 'MWS_MAIN_BLUE', 'MWS_MAIN_BLUE_NORTH', 'MWS_MAIN_BLUE_SOUTH']\n",
      "    ['PSF']\n",
      "['MWS_MAIN_RED', 'MWS_MAIN_RED_NORTH', 'MWS_MAIN_RED_SOUTH']\n",
      "    ['PSF']\n",
      "['MWS_MAIN_BLUE_FAINT', 'MWS_MAIN_BLUE_FAINT_NORTH', 'MWS_MAIN_BLUE_FAINT_SOUTH']\n",
      "    ['PSF']\n",
      "['MWS_WD', 'MWS_MAIN_BLUE_FAINT', 'MWS_MAIN_BLUE_FAINT_NORTH', 'MWS_MAIN_BLUE_FAINT_SOUTH']\n",
      "    ['PSF']\n",
      "['MWS_WD', 'MWS_NEARBY', 'MWS_MAIN_BLUE_FAINT', 'MWS_MAIN_BLUE_FAINT_NORTH', 'MWS_MAIN_BLUE_FAINT_SOUTH']\n",
      "    ['PSF']\n",
      "['MWS_MAIN_RED_FAINT', 'MWS_MAIN_RED_FAINT_NORTH', 'MWS_MAIN_RED_FAINT_SOUTH']\n",
      "    ['PSF']\n",
      "['MWS_WD', 'MWS_MAIN_RED_FAINT', 'MWS_MAIN_RED_FAINT_NORTH', 'MWS_MAIN_RED_FAINT_SOUTH']\n",
      "    ['PSF']\n",
      "['MWS_NEARBY', 'MWS_MAIN_RED_FAINT', 'MWS_MAIN_RED_FAINT_NORTH', 'MWS_MAIN_RED_FAINT_SOUTH']\n",
      "    ['PSF']\n",
      "['MWS_WD', 'MWS_NEARBY', 'MWS_MAIN_RED_FAINT', 'MWS_MAIN_RED_FAINT_NORTH', 'MWS_MAIN_RED_FAINT_SOUTH']\n",
      "    ['PSF']\n"
     ]
    }
   ],
   "source": [
    "# List all the combinations of MWS mask bits and the Tractor types assocated with those bits.\n",
    "for mwst in np.unique(mtl['MWS_TARGET']):\n",
    "    w = np.flatnonzero(mtl['MWS_TARGET'] == mwst)\n",
    "    print(mws_mask.names(mwst))\n",
    "    print('   ', [_.strip() for _ in (np.unique(mtl['MORPHTYPE'][w]))])"
   ]
  },
  {
   "cell_type": "code",
   "execution_count": 118,
   "metadata": {},
   "outputs": [
    {
     "data": {
      "text/plain": [
       "['RELEASE',\n",
       " 'BRICKID',\n",
       " 'BRICKNAME',\n",
       " 'BRICK_OBJID',\n",
       " 'MORPHTYPE',\n",
       " 'RA',\n",
       " 'DEC',\n",
       " 'RA_IVAR',\n",
       " 'DEC_IVAR',\n",
       " 'DCHISQ',\n",
       " 'EBV',\n",
       " 'FLUX_G',\n",
       " 'FLUX_R',\n",
       " 'FLUX_Z',\n",
       " 'FLUX_W1',\n",
       " 'FLUX_W2',\n",
       " 'FLUX_W3',\n",
       " 'FLUX_W4',\n",
       " 'FLUX_IVAR_G',\n",
       " 'FLUX_IVAR_R',\n",
       " 'FLUX_IVAR_Z',\n",
       " 'FLUX_IVAR_W1',\n",
       " 'FLUX_IVAR_W2',\n",
       " 'FLUX_IVAR_W3',\n",
       " 'FLUX_IVAR_W4',\n",
       " 'MW_TRANSMISSION_G',\n",
       " 'MW_TRANSMISSION_R',\n",
       " 'MW_TRANSMISSION_Z',\n",
       " 'MW_TRANSMISSION_W1',\n",
       " 'MW_TRANSMISSION_W2',\n",
       " 'MW_TRANSMISSION_W3',\n",
       " 'MW_TRANSMISSION_W4',\n",
       " 'NOBS_G',\n",
       " 'NOBS_R',\n",
       " 'NOBS_Z',\n",
       " 'FRACFLUX_G',\n",
       " 'FRACFLUX_R',\n",
       " 'FRACFLUX_Z',\n",
       " 'FRACMASKED_G',\n",
       " 'FRACMASKED_R',\n",
       " 'FRACMASKED_Z',\n",
       " 'FRACIN_G',\n",
       " 'FRACIN_R',\n",
       " 'FRACIN_Z',\n",
       " 'ALLMASK_G',\n",
       " 'ALLMASK_R',\n",
       " 'ALLMASK_Z',\n",
       " 'PSFDEPTH_G',\n",
       " 'PSFDEPTH_R',\n",
       " 'PSFDEPTH_Z',\n",
       " 'GALDEPTH_G',\n",
       " 'GALDEPTH_R',\n",
       " 'GALDEPTH_Z',\n",
       " 'FRACDEV',\n",
       " 'FRACDEV_IVAR',\n",
       " 'SHAPEDEV_R',\n",
       " 'SHAPEDEV_R_IVAR',\n",
       " 'SHAPEDEV_E1',\n",
       " 'SHAPEDEV_E1_IVAR',\n",
       " 'SHAPEDEV_E2',\n",
       " 'SHAPEDEV_E2_IVAR',\n",
       " 'SHAPEEXP_R',\n",
       " 'SHAPEEXP_R_IVAR',\n",
       " 'SHAPEEXP_E1',\n",
       " 'SHAPEEXP_E1_IVAR',\n",
       " 'SHAPEEXP_E2',\n",
       " 'SHAPEEXP_E2_IVAR',\n",
       " 'FIBERFLUX_G',\n",
       " 'FIBERFLUX_R',\n",
       " 'FIBERFLUX_Z',\n",
       " 'FIBERTOTFLUX_G',\n",
       " 'FIBERTOTFLUX_R',\n",
       " 'FIBERTOTFLUX_Z',\n",
       " 'REF_ID',\n",
       " 'GAIA_PHOT_G_MEAN_MAG',\n",
       " 'GAIA_PHOT_G_MEAN_FLUX_OVER_ERROR',\n",
       " 'GAIA_PHOT_BP_MEAN_MAG',\n",
       " 'GAIA_PHOT_BP_MEAN_FLUX_OVER_ERROR',\n",
       " 'GAIA_PHOT_RP_MEAN_MAG',\n",
       " 'GAIA_PHOT_RP_MEAN_FLUX_OVER_ERROR',\n",
       " 'GAIA_ASTROMETRIC_EXCESS_NOISE',\n",
       " 'GAIA_DUPLICATED_SOURCE',\n",
       " 'PARALLAX',\n",
       " 'PARALLAX_IVAR',\n",
       " 'PMRA',\n",
       " 'PMRA_IVAR',\n",
       " 'PMDEC',\n",
       " 'PMDEC_IVAR',\n",
       " 'BRIGHTSTARINBLOB',\n",
       " 'PHOTSYS',\n",
       " 'TARGETID',\n",
       " 'DESI_TARGET',\n",
       " 'BGS_TARGET',\n",
       " 'MWS_TARGET',\n",
       " 'SUBPRIORITY',\n",
       " 'HPXPIXEL',\n",
       " 'NUMOBS_MORE',\n",
       " 'PRIORITY',\n",
       " 'OBSCONDITIONS']"
      ]
     },
     "execution_count": 118,
     "metadata": {},
     "output_type": "execute_result"
    }
   ],
   "source": [
    "mtl.colnames"
   ]
  },
  {
   "cell_type": "code",
   "execution_count": 119,
   "metadata": {},
   "outputs": [
    {
     "data": {
      "text/html": [
       "&lt;Column name=&apos;PRIORITY&apos; dtype=&apos;int64&apos; length=8&gt;\n",
       "<table>\n",
       "<tr><td>1400</td></tr>\n",
       "<tr><td>1500</td></tr>\n",
       "<tr><td>1540</td></tr>\n",
       "<tr><td>1550</td></tr>\n",
       "<tr><td>1600</td></tr>\n",
       "<tr><td>2000</td></tr>\n",
       "<tr><td>2100</td></tr>\n",
       "<tr><td>2998</td></tr>\n",
       "</table>"
      ],
      "text/plain": [
       "<Column name='PRIORITY' dtype='int64' length=8>\n",
       "1400\n",
       "1500\n",
       "1540\n",
       "1550\n",
       "1600\n",
       "2000\n",
       "2100\n",
       "2998"
      ]
     },
     "execution_count": 119,
     "metadata": {},
     "output_type": "execute_result"
    }
   ],
   "source": [
    "np.unique(mtl['PRIORITY'])"
   ]
  },
  {
   "cell_type": "code",
   "execution_count": 120,
   "metadata": {},
   "outputs": [
    {
     "name": "stdout",
     "output_type": "stream",
     "text": [
      "PROPERTY                      MIN               MAX NEGATIVE     ZERO\n",
      "FLUX_G                 -25260.414        159124.281        3        3\n",
      "FLUX_R                 -72780.258       1836300.250        3        2\n",
      "FLUX_IVAR_G                 0.000         12903.959        0        3\n",
      "FLUX_IVAR_R                 0.000          1931.864        0        2\n",
      "RA                        170.000           180.000        0        0\n",
      "DEC                        -5.000             5.000   237689        0\n",
      "PRIORITY                 1400.000          2998.000        0        0\n"
     ]
    }
   ],
   "source": [
    "print('{:15s} {:>17s} {:>17s} {:>8s} {:>8s}'.format('PROPERTY','MIN','MAX','NEGATIVE','ZERO'))\n",
    "for p in ['FLUX_G','FLUX_R','FLUX_IVAR_G','FLUX_IVAR_R','RA','DEC','PRIORITY']:\n",
    "    print('{:15s} {:17.3f} {:17.3f} {:8d} {:8d}'.format(p,\n",
    "                                                        mtl[p].min(),\n",
    "                                                        mtl[p].max(),\n",
    "                                                        (mtl[p] < 0).sum(),\n",
    "                                                        (mtl[p] == 0).sum(),\n",
    "                                                        ))"
   ]
  },
  {
   "cell_type": "code",
   "execution_count": 121,
   "metadata": {},
   "outputs": [
    {
     "name": "stdout",
     "output_type": "stream",
     "text": [
      "WARNING         COUNT\n",
      "RuntimeWarning  5\n"
     ]
    },
    {
     "data": {
      "text/plain": [
       "(23, 8)"
      ]
     },
     "execution_count": 121,
     "metadata": {},
     "output_type": "execute_result"
    },
    {
     "data": {
      "image/png": "[encoded data removed]",
      "text/plain": [
       "<matplotlib.figure.Figure at 0x2b04522db128>"
      ]
     },
     "metadata": {},
     "output_type": "display_data"
    }
   ],
   "source": [
    "# Colour-magnitude plot\n",
    "\n",
    "with warnings.catch_warnings(record=True) as W:\n",
    "    #warnings.filterwarnings(\"ignore\",category=RuntimeWarning)\n",
    "    g = -2.5*np.log10(mtl['FLUX_G'])+22.5\n",
    "    r = -2.5*np.log10(mtl['FLUX_R'])+22.5\n",
    "    pl.scatter(g-r,r,s=1,alpha=0.3,c='k')\n",
    "warning_summary(W)\n",
    "\n",
    "pl.xlabel('g-r')\n",
    "pl.ylabel('r')\n",
    "pl.axhline(19,c='r')\n",
    "pl.axhline(16,c='r')\n",
    "pl.axvline(0.7,c='r',ls='--') # RED/BLUE separation\n",
    "pl.ylim(23,8)"
   ]
  },
  {
   "cell_type": "code",
   "execution_count": 122,
   "metadata": {},
   "outputs": [
    {
     "data": {
      "image/png": "[encoded data removed]",
      "text/plain": [
       "<matplotlib.figure.Figure at 0x2b04524056a0>"
      ]
     },
     "metadata": {},
     "output_type": "display_data"
    }
   ],
   "source": [
    "# Sky plot\n",
    "pl.scatter(mtl['RA'],mtl['DEC'],c='k',s=1,alpha=0.01)\n",
    "pl.axis('equal');"
   ]
  },
  {
   "cell_type": "markdown",
   "metadata": {},
   "source": [
    "## Prepare standard stars"
   ]
  },
  {
   "cell_type": "code",
   "execution_count": 123,
   "metadata": {},
   "outputs": [
    {
     "name": "stdout",
     "output_type": "stream",
     "text": [
      "10590 standards\n",
      "Wrote standards to /global/u1/a/apcooper/projects/mws_svplan/runs/single_dark_tile/run/data/std.fits\n",
      "Finished with standards\n"
     ]
    }
   ],
   "source": [
    "# Standards\n",
    "reset_standards = True\n",
    "\n",
    "if not os.path.exists(std_path) or reset_standards:\n",
    "    std_mask = 0\n",
    "    for name in ['STD', 'STD_FSTAR', 'STD_WD',\n",
    "                 'STD_FAINT', 'STD_FAINT_BEST',\n",
    "                 'STD_BRIGHT', 'STD_BRIGHT_BEST']:\n",
    "        if name in desi_mask.names():\n",
    "            std_mask |= desi_mask[name]\n",
    "\n",
    "    is_std  = (targetdata['DESI_TARGET'] & std_mask) != 0\n",
    "    stddata = targetdata[is_std]\n",
    "\n",
    "    obscond = np.int_(np.repeat(obsconditions['BRIGHT'], len(stddata)))\n",
    "    stddata = np.lib.recfunctions.append_fields(stddata, 'OBSCONDITIONS', obscond)  \n",
    "        \n",
    "    fitsio.write(std_path, stddata, extname='STD',clobber=True)\n",
    "    print('{} standards'.format(np.count_nonzero(stddata)))\n",
    "    print('Wrote standards to {}'.format(std_path))\n",
    "    print('Finished with standards')\n",
    "else:\n",
    "    print('Reading existing standards: {}'.format(std_path))\n",
    "    stddata = fitsio.read(std_path,extname='STD')"
   ]
  },
  {
   "cell_type": "markdown",
   "metadata": {},
   "source": [
    "## Run fiberassign"
   ]
  },
  {
   "cell_type": "code",
   "execution_count": 124,
   "metadata": {},
   "outputs": [
    {
     "name": "stdout",
     "output_type": "stream",
     "text": [
      "usage: fiberassign [-h] --mtl MTL --sky SKY [--stdstar STDSTAR]\n",
      "                   [--fibstatusfile FIBSTATUSFILE] [--footprint FOOTPRINT]\n",
      "                   [--positioners POSITIONERS] [--surveytiles SURVEYTILES]\n",
      "                   [--telra TELRA] [--teldec TELDEC] [--tileid TILEID]\n",
      "                   [--tileobsconditions TILEOBSCONDITIONS] [--outdir OUTDIR]\n",
      "                   [--starmask STARMASK] [--rundate RUNDATE]\n",
      "                   [--gfafile GFAFILE] [--nstarpetal NSTARPETAL]\n",
      "                   [--nskypetal NSKYPETAL] [--nocleanup] [--version]\n",
      "\n",
      "optional arguments:\n",
      "  -h, --help            show this help message and exit\n",
      "  --mtl MTL             input targets (FITS file)\n",
      "  --sky SKY             input sky positions (FITS file)\n",
      "  --stdstar STDSTAR     input std stars (FITS file)\n",
      "  --fibstatusfile FIBSTATUSFILE\n",
      "                        list of positioners and its status (ECSV or txt file)\n",
      "  --footprint FOOTPRINT\n",
      "                        list of tiles defining the footprint (FITS file)\n",
      "  --positioners POSITIONERS\n",
      "                        list of positioners on the focal plane (FITS file)\n",
      "  --surveytiles SURVEYTILES\n",
      "                        set of tiles to run fiberassign on (text file)\n",
      "  --telra TELRA         Right Ascension of arbitrary pointing - overrides\n",
      "                        --surveytiles\n",
      "  --teldec TELDEC       Declination of arbitrary pointing - overrides\n",
      "                        --surveytiles\n",
      "  --tileid TILEID       Integer ID of arbitrary pointing - overrides\n",
      "                        --surveytiles\n",
      "  --tileobsconditions TILEOBSCONDITIONS\n",
      "                        Mask describing observing program (DARK:1, GRAY:2,\n",
      "                        BRIGHT:4) - overrides --surveytiles\n",
      "  --outdir OUTDIR       output directory (default = ./)\n",
      "  --starmask STARMASK   integer mask defining standard stars\n",
      "  --rundate RUNDATE     run date [YYYY-MM-DD]\n",
      "  --gfafile GFAFILE     GFA file (FITS tile)\n",
      "  --nstarpetal NSTARPETAL\n",
      "                        number of standard stars per petal (default=10)\n",
      "  --nskypetal NSKYPETAL\n",
      "                        number of sky fibers per petal (default=40)\n",
      "  --nocleanup\n",
      "  --version             Print C code version and exit\n"
     ]
    }
   ],
   "source": [
    "# Show fiberassign options\n",
    "!fiberassign -h"
   ]
  },
  {
   "cell_type": "markdown",
   "metadata": {},
   "source": [
    "Run fiberassign."
   ]
  },
  {
   "cell_type": "code",
   "execution_count": 125,
   "metadata": {},
   "outputs": [
    {
     "name": "stdout",
     "output_type": "stream",
     "text": [
      "Removing /global/u1/a/apcooper/projects/mws_svplan/runs/single_dark_tile/run/output/tile_00000.fits\n",
      "fiberassign --mtl /global/u1/a/apcooper/projects/mws_svplan/runs/single_dark_tile/run/data/mtl.fits  --sky /project/projectdirs/desi/target/catalogs/dr7.1/0.22.0/skies-dr7.1-0.22.0.fits  --stdstar /global/u1/a/apcooper/projects/mws_svplan/runs/single_dark_tile/run/data/std.fits  --footprint /global/u1/a/apcooper/projects/mws_svplan/runs/single_dark_tile/tiles/mws_sv_tiles.fits --gfafile /project/projectdirs/desi/target/catalogs/dr7.1/0.22.0/gfas-dr7.1.fits --outdir /global/u1/a/apcooper/projects/mws_svplan/runs/single_dark_tile/run/output  --nstarpetal 20  --nskypetal 80\n",
      "starting fiberassign\n",
      "finished fiberassign: 0\n"
     ]
    }
   ],
   "source": [
    "STANDARDS_PER_PETAL  = 20\n",
    "SKYS_PER_PETAL       = 80\n",
    "\n",
    "for f in glob.glob(os.path.join(outdir,'*.fits')):\n",
    "    print('Removing {}'.format(f))\n",
    "    os.remove(f)\n",
    "\n",
    "cmd = \"fiberassign --mtl {} \".format(mtl_path)\n",
    "cmd += \" --sky {} \".format(sky_path)\n",
    "cmd += \" --stdstar {} \".format(std_path)\n",
    "# cmd += \" --fibstatusfile ./fiberstatus.ecsv\"\n",
    "cmd += \" --footprint {}\".format(tile_path)\n",
    "cmd += \" --gfafile {}\".format(gfa_path)\n",
    "cmd += \" --outdir {} \".format(outdir)\n",
    "cmd += \" --nstarpetal {:d} \".format(STANDARDS_PER_PETAL)\n",
    "cmd += \" --nskypetal {:d}\".format(SKYS_PER_PETAL)\n",
    "\n",
    "print(cmd)\n",
    "print('starting fiberassign')\n",
    "ecode = os.system(cmd)\n",
    "print('finished fiberassign: {}'.format(ecode))"
   ]
  },
  {
   "cell_type": "code",
   "execution_count": 126,
   "metadata": {},
   "outputs": [
    {
     "name": "stdout",
     "output_type": "stream",
     "text": [
      "tile_00000.fits\n"
     ]
    }
   ],
   "source": [
    "!ls $outdir"
   ]
  },
  {
   "cell_type": "code",
   "execution_count": null,
   "metadata": {},
   "outputs": [],
   "source": []
  }
 ],
 "metadata": {
  "kernelspec": {
   "display_name": "DESI master",
   "language": "python",
   "name": "desi-master"
  },
  "language_info": {
   "codemirror_mode": {
    "name": "ipython",
    "version": 3
   },
   "file_extension": ".py",
   "mimetype": "text/x-python",
   "name": "python",
   "nbconvert_exporter": "python",
   "pygments_lexer": "ipython3",
   "version": "3.6.6"
  }
 },
 "nbformat": 4,
 "nbformat_minor": 2
}
